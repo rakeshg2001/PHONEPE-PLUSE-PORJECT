{
 "cells": [
  {
   "cell_type": "markdown",
   "metadata": {
    "id": "-uT3pOw7EHWm"
   },
   "source": [
    "# **Problem Statement:**\n",
    "The Phonepe pulse Github repository contains a large amount of data related to\n",
    "various metrics and statistics. The goal is to extract this data and process it to obtain\n",
    "insights and information that can be visualized in a user-friendly manner."
   ]
  },
  {
   "cell_type": "code",
   "execution_count": 31,
   "metadata": {
    "id": "MkNG4vTeEdOG"
   },
   "outputs": [],
   "source": [
    "#Once created the clone of GIT-HUB repository then,\n",
    "#Required libraries for the program\n",
    "\n",
    "import pandas as pd\n",
    "import json\n",
    "import os\n",
    "import requests"
   ]
  },
  {
   "cell_type": "code",
   "execution_count": 32,
   "metadata": {},
   "outputs": [],
   "source": [
    "import os"
   ]
  },
  {
   "cell_type": "code",
   "execution_count": 33,
   "metadata": {},
   "outputs": [
    {
     "data": {
      "text/plain": [
       "['.gitignore', 'data', 'LICENSE', 'README.md']"
      ]
     },
     "execution_count": 33,
     "metadata": {},
     "output_type": "execute_result"
    }
   ],
   "source": [
    "os.listdir(r\"C:\\Users\\g.rakesh\\Downloads\\pulse-master\\pulse-master\")"
   ]
  },
  {
   "cell_type": "code",
   "execution_count": 34,
   "metadata": {},
   "outputs": [],
   "source": [
    "import pprint"
   ]
  },
  {
   "cell_type": "code",
   "execution_count": null,
   "metadata": {},
   "outputs": [],
   "source": []
  },
  {
   "cell_type": "code",
   "execution_count": 35,
   "metadata": {},
   "outputs": [],
   "source": [
    "def scientific_to_amount(scientific_notation):\n",
    "    # Convert scientific notation to a float\n",
    "    number = float(scientific_notation)\n",
    "\n",
    "    # Format the float as a string with two decimal places\n",
    "    formatted_amount = '{:.2f}'.format(number)\n",
    "\n",
    "    return formatted_amount"
   ]
  },
  {
   "cell_type": "code",
   "execution_count": null,
   "metadata": {},
   "outputs": [],
   "source": []
  },
  {
   "cell_type": "code",
   "execution_count": 36,
   "metadata": {},
   "outputs": [],
   "source": [
    "path=r\"C:\\Users\\g.rakesh\\Downloads\\pulse-master\\pulse-master\\data\\aggregated\\transaction\\country\\india\\state\"\n",
    "Agg_state_list=os.listdir(path)\n",
    "Agg_state_list\n",
    "#Agg_state_list--> to get the list of states in India\n",
    "#This is to extract the data's to create a dataframe\n",
    "\n",
    "D1 = {'State': [], 'Year': [], 'Quarter': [], 'Transaction_type': [], 'Transaction_count': [], 'Transaction_amount': []}\n",
    "for i in Agg_state_list:\n",
    "    p = path + \"/\" + i\n",
    "    Agg_yr = os.listdir(p)\n",
    "    for y in Agg_yr:\n",
    "        M = p + \"/\" + y\n",
    "        Agg_yr_list = os.listdir(M)\n",
    "\n",
    "        for k in Agg_yr_list:\n",
    "            N = M + \"/\" + k\n",
    "            Data = open(N, 'r')\n",
    "            A = json.load(Data)\n",
    "            for v in A['data']['transactionData']:\n",
    "                Name = v[\"name\"]\n",
    "                count = v[\"paymentInstruments\"][0]['count']\n",
    "                amount = scientific_to_amount(v[\"paymentInstruments\"][0]['amount'])\n",
    "                D1[\"Transaction_type\"].append(Name)\n",
    "                D1[\"Transaction_count\"].append(count)\n",
    "                D1[\"Transaction_amount\"].append(amount)\n",
    "                D1[\"State\"].append(i)\n",
    "                D1[\"Year\"].append(y)\n",
    "                D1[\"Quarter\"].append(int(k.strip('.json')))\n",
    "Agg_Trans= pd.DataFrame(D1)\n",
    "#Agg_Trans.to_csv('Agg_trans.csv')"
   ]
  },
  {
   "cell_type": "code",
   "execution_count": 37,
   "metadata": {
    "colab": {
     "base_uri": "https://localhost:8080/",
     "height": 423
    },
    "id": "nBxSr_UBE20L",
    "outputId": "37bb2c13-f2eb-46da-8762-11238fee7a90"
   },
   "outputs": [
    {
     "data": {
      "text/html": [
       "<div>\n",
       "<style scoped>\n",
       "    .dataframe tbody tr th:only-of-type {\n",
       "        vertical-align: middle;\n",
       "    }\n",
       "\n",
       "    .dataframe tbody tr th {\n",
       "        vertical-align: top;\n",
       "    }\n",
       "\n",
       "    .dataframe thead th {\n",
       "        text-align: right;\n",
       "    }\n",
       "</style>\n",
       "<table border=\"1\" class=\"dataframe\">\n",
       "  <thead>\n",
       "    <tr style=\"text-align: right;\">\n",
       "      <th></th>\n",
       "      <th>State</th>\n",
       "      <th>Year</th>\n",
       "      <th>Quarter</th>\n",
       "      <th>Transaction_type</th>\n",
       "      <th>Transaction_count</th>\n",
       "      <th>Transaction_amount</th>\n",
       "    </tr>\n",
       "  </thead>\n",
       "  <tbody>\n",
       "    <tr>\n",
       "      <th>0</th>\n",
       "      <td>andaman-&amp;-nicobar-islands</td>\n",
       "      <td>2018</td>\n",
       "      <td>1</td>\n",
       "      <td>Recharge &amp; bill payments</td>\n",
       "      <td>4200</td>\n",
       "      <td>1845307.47</td>\n",
       "    </tr>\n",
       "    <tr>\n",
       "      <th>1</th>\n",
       "      <td>andaman-&amp;-nicobar-islands</td>\n",
       "      <td>2018</td>\n",
       "      <td>1</td>\n",
       "      <td>Peer-to-peer payments</td>\n",
       "      <td>1871</td>\n",
       "      <td>12138655.30</td>\n",
       "    </tr>\n",
       "    <tr>\n",
       "      <th>2</th>\n",
       "      <td>andaman-&amp;-nicobar-islands</td>\n",
       "      <td>2018</td>\n",
       "      <td>1</td>\n",
       "      <td>Merchant payments</td>\n",
       "      <td>298</td>\n",
       "      <td>452507.17</td>\n",
       "    </tr>\n",
       "    <tr>\n",
       "      <th>3</th>\n",
       "      <td>andaman-&amp;-nicobar-islands</td>\n",
       "      <td>2018</td>\n",
       "      <td>1</td>\n",
       "      <td>Financial Services</td>\n",
       "      <td>33</td>\n",
       "      <td>10601.42</td>\n",
       "    </tr>\n",
       "    <tr>\n",
       "      <th>4</th>\n",
       "      <td>andaman-&amp;-nicobar-islands</td>\n",
       "      <td>2018</td>\n",
       "      <td>1</td>\n",
       "      <td>Others</td>\n",
       "      <td>256</td>\n",
       "      <td>184689.87</td>\n",
       "    </tr>\n",
       "    <tr>\n",
       "      <th>...</th>\n",
       "      <td>...</td>\n",
       "      <td>...</td>\n",
       "      <td>...</td>\n",
       "      <td>...</td>\n",
       "      <td>...</td>\n",
       "      <td>...</td>\n",
       "    </tr>\n",
       "    <tr>\n",
       "      <th>4129</th>\n",
       "      <td>west-bengal</td>\n",
       "      <td>2023</td>\n",
       "      <td>3</td>\n",
       "      <td>Merchant payments</td>\n",
       "      <td>296965002</td>\n",
       "      <td>200440391406.00</td>\n",
       "    </tr>\n",
       "    <tr>\n",
       "      <th>4130</th>\n",
       "      <td>west-bengal</td>\n",
       "      <td>2023</td>\n",
       "      <td>3</td>\n",
       "      <td>Peer-to-peer payments</td>\n",
       "      <td>271150280</td>\n",
       "      <td>831050092805.00</td>\n",
       "    </tr>\n",
       "    <tr>\n",
       "      <th>4131</th>\n",
       "      <td>west-bengal</td>\n",
       "      <td>2023</td>\n",
       "      <td>3</td>\n",
       "      <td>Recharge &amp; bill payments</td>\n",
       "      <td>63055684</td>\n",
       "      <td>39209851435.00</td>\n",
       "    </tr>\n",
       "    <tr>\n",
       "      <th>4132</th>\n",
       "      <td>west-bengal</td>\n",
       "      <td>2023</td>\n",
       "      <td>3</td>\n",
       "      <td>Financial Services</td>\n",
       "      <td>389751</td>\n",
       "      <td>424985591.00</td>\n",
       "    </tr>\n",
       "    <tr>\n",
       "      <th>4133</th>\n",
       "      <td>west-bengal</td>\n",
       "      <td>2023</td>\n",
       "      <td>3</td>\n",
       "      <td>Others</td>\n",
       "      <td>532474</td>\n",
       "      <td>423285145.00</td>\n",
       "    </tr>\n",
       "  </tbody>\n",
       "</table>\n",
       "<p>4134 rows × 6 columns</p>\n",
       "</div>"
      ],
      "text/plain": [
       "                          State  Year  Quarter          Transaction_type  \\\n",
       "0     andaman-&-nicobar-islands  2018        1  Recharge & bill payments   \n",
       "1     andaman-&-nicobar-islands  2018        1     Peer-to-peer payments   \n",
       "2     andaman-&-nicobar-islands  2018        1         Merchant payments   \n",
       "3     andaman-&-nicobar-islands  2018        1        Financial Services   \n",
       "4     andaman-&-nicobar-islands  2018        1                    Others   \n",
       "...                         ...   ...      ...                       ...   \n",
       "4129                west-bengal  2023        3         Merchant payments   \n",
       "4130                west-bengal  2023        3     Peer-to-peer payments   \n",
       "4131                west-bengal  2023        3  Recharge & bill payments   \n",
       "4132                west-bengal  2023        3        Financial Services   \n",
       "4133                west-bengal  2023        3                    Others   \n",
       "\n",
       "      Transaction_count Transaction_amount  \n",
       "0                  4200         1845307.47  \n",
       "1                  1871        12138655.30  \n",
       "2                   298          452507.17  \n",
       "3                    33           10601.42  \n",
       "4                   256          184689.87  \n",
       "...                 ...                ...  \n",
       "4129          296965002    200440391406.00  \n",
       "4130          271150280    831050092805.00  \n",
       "4131           63055684     39209851435.00  \n",
       "4132             389751       424985591.00  \n",
       "4133             532474       423285145.00  \n",
       "\n",
       "[4134 rows x 6 columns]"
      ]
     },
     "execution_count": 37,
     "metadata": {},
     "output_type": "execute_result"
    }
   ],
   "source": [
    "Agg_Trans"
   ]
  },
  {
   "cell_type": "code",
   "execution_count": 38,
   "metadata": {},
   "outputs": [
    {
     "name": "stdout",
     "output_type": "stream",
     "text": [
      "'C:\\\\Users\\\\g.rakesh\\\\Downloads\\\\pulse-master\\\\pulse-master\\\\data\\\\aggregated\\\\transaction\\\\country\\\\india\\\\state'\n"
     ]
    }
   ],
   "source": [
    "pprint.pprint(path)"
   ]
  },
  {
   "cell_type": "code",
   "execution_count": 39,
   "metadata": {
    "id": "U39Kb-AsE2oK"
   },
   "outputs": [],
   "source": [
    "path = r\"C:\\Users\\g.rakesh\\Downloads\\pulse-master\\pulse-master\\data\\aggregated\\user\\country\\india\\state\"\n",
    "D2 = {'State': [], 'Year': [], 'Quarter': [], 'Brand': [], 'count': [], 'Percentage': []}\n",
    "Agg_state = os.listdir(path)\n",
    "for i in Agg_state:\n",
    "    p = path + \"/\" + i\n",
    "    agg_yr = os.listdir(p)\n",
    "    for y in agg_yr:\n",
    "        p2 = p + \"/\" + y\n",
    "        agg_yr_det = os.listdir(p2)\n",
    "        for k in agg_yr_det:\n",
    "            p3 = p2 + \"/\" + k\n",
    "            data = open(p3, 'r')\n",
    "            B = json.load(data)\n",
    "            try:\n",
    "                for v in B['data']['usersByDevice']:\n",
    "                    D2[\"Brand\"].append(v['brand'])\n",
    "                    D2[\"count\"].append(v['count'])\n",
    "                    D2[\"Percentage\"] = v['percentage']\n",
    "                    D2[\"State\"].append(i)\n",
    "                    D2[\"Year\"].append(y)\n",
    "                    D2[\"Quarter\"].append(int(k.strip('.json')))\n",
    "            except:\n",
    "                pass\n",
    "Agg_user= pd.DataFrame(D2)\n",
    "#Agg_user.to_csv(\"Agg_user.csv\")"
   ]
  },
  {
   "cell_type": "code",
   "execution_count": 40,
   "metadata": {
    "colab": {
     "base_uri": "https://localhost:8080/",
     "height": 423
    },
    "id": "jyu1VbY6JDtG",
    "outputId": "f7e2cae5-e108-4658-8901-424aab44a1e7"
   },
   "outputs": [
    {
     "data": {
      "text/html": [
       "<div>\n",
       "<style scoped>\n",
       "    .dataframe tbody tr th:only-of-type {\n",
       "        vertical-align: middle;\n",
       "    }\n",
       "\n",
       "    .dataframe tbody tr th {\n",
       "        vertical-align: top;\n",
       "    }\n",
       "\n",
       "    .dataframe thead th {\n",
       "        text-align: right;\n",
       "    }\n",
       "</style>\n",
       "<table border=\"1\" class=\"dataframe\">\n",
       "  <thead>\n",
       "    <tr style=\"text-align: right;\">\n",
       "      <th></th>\n",
       "      <th>State</th>\n",
       "      <th>Year</th>\n",
       "      <th>Quarter</th>\n",
       "      <th>Brand</th>\n",
       "      <th>count</th>\n",
       "      <th>Percentage</th>\n",
       "    </tr>\n",
       "  </thead>\n",
       "  <tbody>\n",
       "    <tr>\n",
       "      <th>0</th>\n",
       "      <td>andaman-&amp;-nicobar-islands</td>\n",
       "      <td>2018</td>\n",
       "      <td>1</td>\n",
       "      <td>Xiaomi</td>\n",
       "      <td>1665</td>\n",
       "      <td>0.100199</td>\n",
       "    </tr>\n",
       "    <tr>\n",
       "      <th>1</th>\n",
       "      <td>andaman-&amp;-nicobar-islands</td>\n",
       "      <td>2018</td>\n",
       "      <td>1</td>\n",
       "      <td>Samsung</td>\n",
       "      <td>1445</td>\n",
       "      <td>0.100199</td>\n",
       "    </tr>\n",
       "    <tr>\n",
       "      <th>2</th>\n",
       "      <td>andaman-&amp;-nicobar-islands</td>\n",
       "      <td>2018</td>\n",
       "      <td>1</td>\n",
       "      <td>Vivo</td>\n",
       "      <td>982</td>\n",
       "      <td>0.100199</td>\n",
       "    </tr>\n",
       "    <tr>\n",
       "      <th>3</th>\n",
       "      <td>andaman-&amp;-nicobar-islands</td>\n",
       "      <td>2018</td>\n",
       "      <td>1</td>\n",
       "      <td>Oppo</td>\n",
       "      <td>501</td>\n",
       "      <td>0.100199</td>\n",
       "    </tr>\n",
       "    <tr>\n",
       "      <th>4</th>\n",
       "      <td>andaman-&amp;-nicobar-islands</td>\n",
       "      <td>2018</td>\n",
       "      <td>1</td>\n",
       "      <td>OnePlus</td>\n",
       "      <td>332</td>\n",
       "      <td>0.100199</td>\n",
       "    </tr>\n",
       "    <tr>\n",
       "      <th>...</th>\n",
       "      <td>...</td>\n",
       "      <td>...</td>\n",
       "      <td>...</td>\n",
       "      <td>...</td>\n",
       "      <td>...</td>\n",
       "      <td>...</td>\n",
       "    </tr>\n",
       "    <tr>\n",
       "      <th>6727</th>\n",
       "      <td>west-bengal</td>\n",
       "      <td>2022</td>\n",
       "      <td>1</td>\n",
       "      <td>Lenovo</td>\n",
       "      <td>330017</td>\n",
       "      <td>0.100199</td>\n",
       "    </tr>\n",
       "    <tr>\n",
       "      <th>6728</th>\n",
       "      <td>west-bengal</td>\n",
       "      <td>2022</td>\n",
       "      <td>1</td>\n",
       "      <td>Infinix</td>\n",
       "      <td>284678</td>\n",
       "      <td>0.100199</td>\n",
       "    </tr>\n",
       "    <tr>\n",
       "      <th>6729</th>\n",
       "      <td>west-bengal</td>\n",
       "      <td>2022</td>\n",
       "      <td>1</td>\n",
       "      <td>Asus</td>\n",
       "      <td>280347</td>\n",
       "      <td>0.100199</td>\n",
       "    </tr>\n",
       "    <tr>\n",
       "      <th>6730</th>\n",
       "      <td>west-bengal</td>\n",
       "      <td>2022</td>\n",
       "      <td>1</td>\n",
       "      <td>Apple</td>\n",
       "      <td>277752</td>\n",
       "      <td>0.100199</td>\n",
       "    </tr>\n",
       "    <tr>\n",
       "      <th>6731</th>\n",
       "      <td>west-bengal</td>\n",
       "      <td>2022</td>\n",
       "      <td>1</td>\n",
       "      <td>Others</td>\n",
       "      <td>2196334</td>\n",
       "      <td>0.100199</td>\n",
       "    </tr>\n",
       "  </tbody>\n",
       "</table>\n",
       "<p>6732 rows × 6 columns</p>\n",
       "</div>"
      ],
      "text/plain": [
       "                          State  Year  Quarter    Brand    count  Percentage\n",
       "0     andaman-&-nicobar-islands  2018        1   Xiaomi     1665    0.100199\n",
       "1     andaman-&-nicobar-islands  2018        1  Samsung     1445    0.100199\n",
       "2     andaman-&-nicobar-islands  2018        1     Vivo      982    0.100199\n",
       "3     andaman-&-nicobar-islands  2018        1     Oppo      501    0.100199\n",
       "4     andaman-&-nicobar-islands  2018        1  OnePlus      332    0.100199\n",
       "...                         ...   ...      ...      ...      ...         ...\n",
       "6727                west-bengal  2022        1   Lenovo   330017    0.100199\n",
       "6728                west-bengal  2022        1  Infinix   284678    0.100199\n",
       "6729                west-bengal  2022        1     Asus   280347    0.100199\n",
       "6730                west-bengal  2022        1    Apple   277752    0.100199\n",
       "6731                west-bengal  2022        1   Others  2196334    0.100199\n",
       "\n",
       "[6732 rows x 6 columns]"
      ]
     },
     "execution_count": 40,
     "metadata": {},
     "output_type": "execute_result"
    }
   ],
   "source": [
    "Agg_user"
   ]
  },
  {
   "cell_type": "code",
   "execution_count": 41,
   "metadata": {
    "id": "njwigmwxE2i_"
   },
   "outputs": [],
   "source": [
    "path = r\"C:\\Users\\g.rakesh\\Downloads\\pulse-master\\pulse-master\\data\\map\\transaction\\hover\\country\\india\\state\"\n",
    "hover_state = os.listdir(path)\n",
    "D3 = {'State': [], 'Year': [], 'Quarter': [], 'District': [], 'Count': [], 'Amount': []}\n",
    "for i in hover_state:\n",
    "    p = path + \"/\" + i\n",
    "    hover_yr = os.listdir(p)\n",
    "    for row in hover_yr:\n",
    "        M = p + \"/\" + row\n",
    "        hover_yr = os.listdir(M)\n",
    "        for k in hover_yr:\n",
    "            N = M + \"/\" + k\n",
    "            Data = open(N, 'r')\n",
    "            A = json.load(Data)\n",
    "            for v in A['data']['hoverDataList']:\n",
    "                Name = v[\"name\"]\n",
    "                count = v[\"metric\"][0]['count']\n",
    "\n",
    "                D3[\"District\"].append(Name)\n",
    "                D3[\"Count\"].append(count)\n",
    "                D3[\"Amount\"].append(amount)\n",
    "                D3[\"State\"].append(i)\n",
    "                D3[\"Year\"].append(row)\n",
    "                D3[\"Quarter\"].append(int(k.strip('.json')))\n",
    "map_trans = pd.DataFrame(D3)\n",
    "#map_trans.to_csv(\"map_trans.csv\")"
   ]
  },
  {
   "cell_type": "code",
   "execution_count": 42,
   "metadata": {
    "colab": {
     "base_uri": "https://localhost:8080/",
     "height": 423
    },
    "id": "WAIoOWGEE2cJ",
    "outputId": "cbcd0638-a04e-4c63-f792-4ef396016d58"
   },
   "outputs": [
    {
     "data": {
      "text/html": [
       "<div>\n",
       "<style scoped>\n",
       "    .dataframe tbody tr th:only-of-type {\n",
       "        vertical-align: middle;\n",
       "    }\n",
       "\n",
       "    .dataframe tbody tr th {\n",
       "        vertical-align: top;\n",
       "    }\n",
       "\n",
       "    .dataframe thead th {\n",
       "        text-align: right;\n",
       "    }\n",
       "</style>\n",
       "<table border=\"1\" class=\"dataframe\">\n",
       "  <thead>\n",
       "    <tr style=\"text-align: right;\">\n",
       "      <th></th>\n",
       "      <th>State</th>\n",
       "      <th>Year</th>\n",
       "      <th>Quarter</th>\n",
       "      <th>District</th>\n",
       "      <th>Count</th>\n",
       "      <th>Amount</th>\n",
       "    </tr>\n",
       "  </thead>\n",
       "  <tbody>\n",
       "    <tr>\n",
       "      <th>0</th>\n",
       "      <td>andaman-&amp;-nicobar-islands</td>\n",
       "      <td>2018</td>\n",
       "      <td>1</td>\n",
       "      <td>north and middle andaman district</td>\n",
       "      <td>442</td>\n",
       "      <td>423285145.00</td>\n",
       "    </tr>\n",
       "    <tr>\n",
       "      <th>1</th>\n",
       "      <td>andaman-&amp;-nicobar-islands</td>\n",
       "      <td>2018</td>\n",
       "      <td>1</td>\n",
       "      <td>south andaman district</td>\n",
       "      <td>5688</td>\n",
       "      <td>423285145.00</td>\n",
       "    </tr>\n",
       "    <tr>\n",
       "      <th>2</th>\n",
       "      <td>andaman-&amp;-nicobar-islands</td>\n",
       "      <td>2018</td>\n",
       "      <td>1</td>\n",
       "      <td>nicobars district</td>\n",
       "      <td>528</td>\n",
       "      <td>423285145.00</td>\n",
       "    </tr>\n",
       "    <tr>\n",
       "      <th>3</th>\n",
       "      <td>andaman-&amp;-nicobar-islands</td>\n",
       "      <td>2018</td>\n",
       "      <td>2</td>\n",
       "      <td>north and middle andaman district</td>\n",
       "      <td>825</td>\n",
       "      <td>423285145.00</td>\n",
       "    </tr>\n",
       "    <tr>\n",
       "      <th>4</th>\n",
       "      <td>andaman-&amp;-nicobar-islands</td>\n",
       "      <td>2018</td>\n",
       "      <td>2</td>\n",
       "      <td>south andaman district</td>\n",
       "      <td>9395</td>\n",
       "      <td>423285145.00</td>\n",
       "    </tr>\n",
       "    <tr>\n",
       "      <th>...</th>\n",
       "      <td>...</td>\n",
       "      <td>...</td>\n",
       "      <td>...</td>\n",
       "      <td>...</td>\n",
       "      <td>...</td>\n",
       "      <td>...</td>\n",
       "    </tr>\n",
       "    <tr>\n",
       "      <th>16827</th>\n",
       "      <td>west-bengal</td>\n",
       "      <td>2023</td>\n",
       "      <td>3</td>\n",
       "      <td>nadia district</td>\n",
       "      <td>30146530</td>\n",
       "      <td>423285145.00</td>\n",
       "    </tr>\n",
       "    <tr>\n",
       "      <th>16828</th>\n",
       "      <td>west-bengal</td>\n",
       "      <td>2023</td>\n",
       "      <td>3</td>\n",
       "      <td>birbhum district</td>\n",
       "      <td>17597047</td>\n",
       "      <td>423285145.00</td>\n",
       "    </tr>\n",
       "    <tr>\n",
       "      <th>16829</th>\n",
       "      <td>west-bengal</td>\n",
       "      <td>2023</td>\n",
       "      <td>3</td>\n",
       "      <td>purba medinipur district</td>\n",
       "      <td>34244893</td>\n",
       "      <td>423285145.00</td>\n",
       "    </tr>\n",
       "    <tr>\n",
       "      <th>16830</th>\n",
       "      <td>west-bengal</td>\n",
       "      <td>2023</td>\n",
       "      <td>3</td>\n",
       "      <td>maldah district</td>\n",
       "      <td>28539407</td>\n",
       "      <td>423285145.00</td>\n",
       "    </tr>\n",
       "    <tr>\n",
       "      <th>16831</th>\n",
       "      <td>west-bengal</td>\n",
       "      <td>2023</td>\n",
       "      <td>3</td>\n",
       "      <td>darjiling district</td>\n",
       "      <td>14747572</td>\n",
       "      <td>423285145.00</td>\n",
       "    </tr>\n",
       "  </tbody>\n",
       "</table>\n",
       "<p>16832 rows × 6 columns</p>\n",
       "</div>"
      ],
      "text/plain": [
       "                           State  Year  Quarter  \\\n",
       "0      andaman-&-nicobar-islands  2018        1   \n",
       "1      andaman-&-nicobar-islands  2018        1   \n",
       "2      andaman-&-nicobar-islands  2018        1   \n",
       "3      andaman-&-nicobar-islands  2018        2   \n",
       "4      andaman-&-nicobar-islands  2018        2   \n",
       "...                          ...   ...      ...   \n",
       "16827                west-bengal  2023        3   \n",
       "16828                west-bengal  2023        3   \n",
       "16829                west-bengal  2023        3   \n",
       "16830                west-bengal  2023        3   \n",
       "16831                west-bengal  2023        3   \n",
       "\n",
       "                                District     Count        Amount  \n",
       "0      north and middle andaman district       442  423285145.00  \n",
       "1                 south andaman district      5688  423285145.00  \n",
       "2                      nicobars district       528  423285145.00  \n",
       "3      north and middle andaman district       825  423285145.00  \n",
       "4                 south andaman district      9395  423285145.00  \n",
       "...                                  ...       ...           ...  \n",
       "16827                     nadia district  30146530  423285145.00  \n",
       "16828                   birbhum district  17597047  423285145.00  \n",
       "16829           purba medinipur district  34244893  423285145.00  \n",
       "16830                    maldah district  28539407  423285145.00  \n",
       "16831                 darjiling district  14747572  423285145.00  \n",
       "\n",
       "[16832 rows x 6 columns]"
      ]
     },
     "execution_count": 42,
     "metadata": {},
     "output_type": "execute_result"
    }
   ],
   "source": [
    "map_trans"
   ]
  },
  {
   "cell_type": "code",
   "execution_count": 43,
   "metadata": {
    "id": "roGFh-kVE2Th"
   },
   "outputs": [],
   "source": [
    "path =r\"C:\\Users\\g.rakesh\\Downloads\\pulse-master\\pulse-master\\data\\map\\user\\hover\\country\\india\\state\"\n",
    "hover_state = os.listdir(path)\n",
    "D4 = {'State': [], 'Year': [], 'Quarter' : [], 'Users' : [], 'Districts' : [], 'App_open': []}\n",
    "for i in hover_state:\n",
    "  p = path + \"/\" + i\n",
    "  hover_yr = os.listdir(p)\n",
    "  for row in hover_yr:\n",
    "    M = p + \"/\" + row\n",
    "    hover_yr = os.listdir(M)\n",
    "    for K in hover_yr:\n",
    "      N = M + \"/\"+ K\n",
    "      Data = open(N, 'r')\n",
    "      A =json.load(Data)\n",
    "      for district ,values in A['data']['hoverData'].items():\n",
    "        users = values['registeredUsers']\n",
    "        AppOpens = values['appOpens']\n",
    "        d = district\n",
    "        D4[\"Users\"].append(users)\n",
    "        D4[\"App_open\"].append(AppOpens)\n",
    "        D4[\"Districts\"].append(d)\n",
    "        D4[\"State\"].append(i)\n",
    "        D4[\"Year\"].append(row)\n",
    "        D4[\"Quarter\"].append(int(k.strip('.json')))\n",
    "map_user = pd.DataFrame(D4)\n",
    "#map_user.to_csv('map_user_state.csv')"
   ]
  },
  {
   "cell_type": "code",
   "execution_count": 44,
   "metadata": {
    "colab": {
     "base_uri": "https://localhost:8080/",
     "height": 423
    },
    "id": "tfQF0UAsE2K4",
    "outputId": "366d9bec-98b9-4e05-e55b-f7f34d7afc53"
   },
   "outputs": [
    {
     "data": {
      "text/html": [
       "<div>\n",
       "<style scoped>\n",
       "    .dataframe tbody tr th:only-of-type {\n",
       "        vertical-align: middle;\n",
       "    }\n",
       "\n",
       "    .dataframe tbody tr th {\n",
       "        vertical-align: top;\n",
       "    }\n",
       "\n",
       "    .dataframe thead th {\n",
       "        text-align: right;\n",
       "    }\n",
       "</style>\n",
       "<table border=\"1\" class=\"dataframe\">\n",
       "  <thead>\n",
       "    <tr style=\"text-align: right;\">\n",
       "      <th></th>\n",
       "      <th>State</th>\n",
       "      <th>Year</th>\n",
       "      <th>Quarter</th>\n",
       "      <th>Users</th>\n",
       "      <th>Districts</th>\n",
       "      <th>App_open</th>\n",
       "    </tr>\n",
       "  </thead>\n",
       "  <tbody>\n",
       "    <tr>\n",
       "      <th>0</th>\n",
       "      <td>andaman-&amp;-nicobar-islands</td>\n",
       "      <td>2018</td>\n",
       "      <td>3</td>\n",
       "      <td>632</td>\n",
       "      <td>north and middle andaman district</td>\n",
       "      <td>0</td>\n",
       "    </tr>\n",
       "    <tr>\n",
       "      <th>1</th>\n",
       "      <td>andaman-&amp;-nicobar-islands</td>\n",
       "      <td>2018</td>\n",
       "      <td>3</td>\n",
       "      <td>5846</td>\n",
       "      <td>south andaman district</td>\n",
       "      <td>0</td>\n",
       "    </tr>\n",
       "    <tr>\n",
       "      <th>2</th>\n",
       "      <td>andaman-&amp;-nicobar-islands</td>\n",
       "      <td>2018</td>\n",
       "      <td>3</td>\n",
       "      <td>262</td>\n",
       "      <td>nicobars district</td>\n",
       "      <td>0</td>\n",
       "    </tr>\n",
       "    <tr>\n",
       "      <th>3</th>\n",
       "      <td>andaman-&amp;-nicobar-islands</td>\n",
       "      <td>2018</td>\n",
       "      <td>3</td>\n",
       "      <td>911</td>\n",
       "      <td>north and middle andaman district</td>\n",
       "      <td>0</td>\n",
       "    </tr>\n",
       "    <tr>\n",
       "      <th>4</th>\n",
       "      <td>andaman-&amp;-nicobar-islands</td>\n",
       "      <td>2018</td>\n",
       "      <td>3</td>\n",
       "      <td>8143</td>\n",
       "      <td>south andaman district</td>\n",
       "      <td>0</td>\n",
       "    </tr>\n",
       "    <tr>\n",
       "      <th>...</th>\n",
       "      <td>...</td>\n",
       "      <td>...</td>\n",
       "      <td>...</td>\n",
       "      <td>...</td>\n",
       "      <td>...</td>\n",
       "      <td>...</td>\n",
       "    </tr>\n",
       "    <tr>\n",
       "      <th>16831</th>\n",
       "      <td>west-bengal</td>\n",
       "      <td>2023</td>\n",
       "      <td>3</td>\n",
       "      <td>1544294</td>\n",
       "      <td>nadia district</td>\n",
       "      <td>12674328</td>\n",
       "    </tr>\n",
       "    <tr>\n",
       "      <th>16832</th>\n",
       "      <td>west-bengal</td>\n",
       "      <td>2023</td>\n",
       "      <td>3</td>\n",
       "      <td>974363</td>\n",
       "      <td>birbhum district</td>\n",
       "      <td>18961683</td>\n",
       "    </tr>\n",
       "    <tr>\n",
       "      <th>16833</th>\n",
       "      <td>west-bengal</td>\n",
       "      <td>2023</td>\n",
       "      <td>3</td>\n",
       "      <td>1530289</td>\n",
       "      <td>purba medinipur district</td>\n",
       "      <td>18593769</td>\n",
       "    </tr>\n",
       "    <tr>\n",
       "      <th>16834</th>\n",
       "      <td>west-bengal</td>\n",
       "      <td>2023</td>\n",
       "      <td>3</td>\n",
       "      <td>1091634</td>\n",
       "      <td>maldah district</td>\n",
       "      <td>28020285</td>\n",
       "    </tr>\n",
       "    <tr>\n",
       "      <th>16835</th>\n",
       "      <td>west-bengal</td>\n",
       "      <td>2023</td>\n",
       "      <td>3</td>\n",
       "      <td>637665</td>\n",
       "      <td>darjiling district</td>\n",
       "      <td>21732323</td>\n",
       "    </tr>\n",
       "  </tbody>\n",
       "</table>\n",
       "<p>16836 rows × 6 columns</p>\n",
       "</div>"
      ],
      "text/plain": [
       "                           State  Year  Quarter    Users  \\\n",
       "0      andaman-&-nicobar-islands  2018        3      632   \n",
       "1      andaman-&-nicobar-islands  2018        3     5846   \n",
       "2      andaman-&-nicobar-islands  2018        3      262   \n",
       "3      andaman-&-nicobar-islands  2018        3      911   \n",
       "4      andaman-&-nicobar-islands  2018        3     8143   \n",
       "...                          ...   ...      ...      ...   \n",
       "16831                west-bengal  2023        3  1544294   \n",
       "16832                west-bengal  2023        3   974363   \n",
       "16833                west-bengal  2023        3  1530289   \n",
       "16834                west-bengal  2023        3  1091634   \n",
       "16835                west-bengal  2023        3   637665   \n",
       "\n",
       "                               Districts  App_open  \n",
       "0      north and middle andaman district         0  \n",
       "1                 south andaman district         0  \n",
       "2                      nicobars district         0  \n",
       "3      north and middle andaman district         0  \n",
       "4                 south andaman district         0  \n",
       "...                                  ...       ...  \n",
       "16831                     nadia district  12674328  \n",
       "16832                   birbhum district  18961683  \n",
       "16833           purba medinipur district  18593769  \n",
       "16834                    maldah district  28020285  \n",
       "16835                 darjiling district  21732323  \n",
       "\n",
       "[16836 rows x 6 columns]"
      ]
     },
     "execution_count": 44,
     "metadata": {},
     "output_type": "execute_result"
    }
   ],
   "source": [
    "map_user"
   ]
  },
  {
   "cell_type": "code",
   "execution_count": 45,
   "metadata": {
    "colab": {
     "base_uri": "https://localhost:8080/",
     "height": 676
    },
    "id": "B4GApvg9TIww",
    "outputId": "7c838858-174d-46d6-ce7b-627ab31d1da6"
   },
   "outputs": [
    {
     "data": {
      "text/html": [
       "<div>\n",
       "<style scoped>\n",
       "    .dataframe tbody tr th:only-of-type {\n",
       "        vertical-align: middle;\n",
       "    }\n",
       "\n",
       "    .dataframe tbody tr th {\n",
       "        vertical-align: top;\n",
       "    }\n",
       "\n",
       "    .dataframe thead th {\n",
       "        text-align: right;\n",
       "    }\n",
       "</style>\n",
       "<table border=\"1\" class=\"dataframe\">\n",
       "  <thead>\n",
       "    <tr style=\"text-align: right;\">\n",
       "      <th></th>\n",
       "      <th>State</th>\n",
       "      <th>Year</th>\n",
       "      <th>Quarter</th>\n",
       "      <th>Pincode</th>\n",
       "      <th>Transaction_Count</th>\n",
       "      <th>Transaction_Amount</th>\n",
       "    </tr>\n",
       "  </thead>\n",
       "  <tbody>\n",
       "    <tr>\n",
       "      <th>0</th>\n",
       "      <td>andaman-&amp;-nicobar-islands</td>\n",
       "      <td>2018</td>\n",
       "      <td>1</td>\n",
       "      <td>744101</td>\n",
       "      <td>1622</td>\n",
       "      <td>2769297.90</td>\n",
       "    </tr>\n",
       "    <tr>\n",
       "      <th>1</th>\n",
       "      <td>andaman-&amp;-nicobar-islands</td>\n",
       "      <td>2018</td>\n",
       "      <td>1</td>\n",
       "      <td>744103</td>\n",
       "      <td>1223</td>\n",
       "      <td>2238041.87</td>\n",
       "    </tr>\n",
       "    <tr>\n",
       "      <th>2</th>\n",
       "      <td>andaman-&amp;-nicobar-islands</td>\n",
       "      <td>2018</td>\n",
       "      <td>1</td>\n",
       "      <td>744102</td>\n",
       "      <td>969</td>\n",
       "      <td>3519059.94</td>\n",
       "    </tr>\n",
       "    <tr>\n",
       "      <th>3</th>\n",
       "      <td>andaman-&amp;-nicobar-islands</td>\n",
       "      <td>2018</td>\n",
       "      <td>1</td>\n",
       "      <td>744105</td>\n",
       "      <td>685</td>\n",
       "      <td>1298560.95</td>\n",
       "    </tr>\n",
       "    <tr>\n",
       "      <th>4</th>\n",
       "      <td>andaman-&amp;-nicobar-islands</td>\n",
       "      <td>2018</td>\n",
       "      <td>1</td>\n",
       "      <td>744104</td>\n",
       "      <td>340</td>\n",
       "      <td>1039715.31</td>\n",
       "    </tr>\n",
       "    <tr>\n",
       "      <th>5</th>\n",
       "      <td>andaman-&amp;-nicobar-islands</td>\n",
       "      <td>2018</td>\n",
       "      <td>1</td>\n",
       "      <td>744107</td>\n",
       "      <td>302</td>\n",
       "      <td>556059.53</td>\n",
       "    </tr>\n",
       "    <tr>\n",
       "      <th>6</th>\n",
       "      <td>andaman-&amp;-nicobar-islands</td>\n",
       "      <td>2018</td>\n",
       "      <td>1</td>\n",
       "      <td>744301</td>\n",
       "      <td>283</td>\n",
       "      <td>445739.16</td>\n",
       "    </tr>\n",
       "    <tr>\n",
       "      <th>7</th>\n",
       "      <td>andaman-&amp;-nicobar-islands</td>\n",
       "      <td>2018</td>\n",
       "      <td>1</td>\n",
       "      <td>744112</td>\n",
       "      <td>269</td>\n",
       "      <td>333709.57</td>\n",
       "    </tr>\n",
       "    <tr>\n",
       "      <th>8</th>\n",
       "      <td>andaman-&amp;-nicobar-islands</td>\n",
       "      <td>2018</td>\n",
       "      <td>1</td>\n",
       "      <td>744202</td>\n",
       "      <td>193</td>\n",
       "      <td>238914.02</td>\n",
       "    </tr>\n",
       "    <tr>\n",
       "      <th>9</th>\n",
       "      <td>andaman-&amp;-nicobar-islands</td>\n",
       "      <td>2018</td>\n",
       "      <td>1</td>\n",
       "      <td>744302</td>\n",
       "      <td>168</td>\n",
       "      <td>547469.65</td>\n",
       "    </tr>\n",
       "    <tr>\n",
       "      <th>10</th>\n",
       "      <td>andaman-&amp;-nicobar-islands</td>\n",
       "      <td>2018</td>\n",
       "      <td>2</td>\n",
       "      <td>744101</td>\n",
       "      <td>2701</td>\n",
       "      <td>6310089.92</td>\n",
       "    </tr>\n",
       "    <tr>\n",
       "      <th>11</th>\n",
       "      <td>andaman-&amp;-nicobar-islands</td>\n",
       "      <td>2018</td>\n",
       "      <td>2</td>\n",
       "      <td>744103</td>\n",
       "      <td>1965</td>\n",
       "      <td>4752146.70</td>\n",
       "    </tr>\n",
       "    <tr>\n",
       "      <th>12</th>\n",
       "      <td>andaman-&amp;-nicobar-islands</td>\n",
       "      <td>2018</td>\n",
       "      <td>2</td>\n",
       "      <td>744102</td>\n",
       "      <td>1525</td>\n",
       "      <td>5810267.57</td>\n",
       "    </tr>\n",
       "    <tr>\n",
       "      <th>13</th>\n",
       "      <td>andaman-&amp;-nicobar-islands</td>\n",
       "      <td>2018</td>\n",
       "      <td>2</td>\n",
       "      <td>744105</td>\n",
       "      <td>997</td>\n",
       "      <td>2200332.97</td>\n",
       "    </tr>\n",
       "    <tr>\n",
       "      <th>14</th>\n",
       "      <td>andaman-&amp;-nicobar-islands</td>\n",
       "      <td>2018</td>\n",
       "      <td>2</td>\n",
       "      <td>744301</td>\n",
       "      <td>767</td>\n",
       "      <td>1953749.38</td>\n",
       "    </tr>\n",
       "    <tr>\n",
       "      <th>15</th>\n",
       "      <td>andaman-&amp;-nicobar-islands</td>\n",
       "      <td>2018</td>\n",
       "      <td>2</td>\n",
       "      <td>744104</td>\n",
       "      <td>659</td>\n",
       "      <td>1650346.19</td>\n",
       "    </tr>\n",
       "    <tr>\n",
       "      <th>16</th>\n",
       "      <td>andaman-&amp;-nicobar-islands</td>\n",
       "      <td>2018</td>\n",
       "      <td>2</td>\n",
       "      <td>744107</td>\n",
       "      <td>594</td>\n",
       "      <td>1601569.98</td>\n",
       "    </tr>\n",
       "    <tr>\n",
       "      <th>17</th>\n",
       "      <td>andaman-&amp;-nicobar-islands</td>\n",
       "      <td>2018</td>\n",
       "      <td>2</td>\n",
       "      <td>744112</td>\n",
       "      <td>432</td>\n",
       "      <td>578829.18</td>\n",
       "    </tr>\n",
       "    <tr>\n",
       "      <th>18</th>\n",
       "      <td>andaman-&amp;-nicobar-islands</td>\n",
       "      <td>2018</td>\n",
       "      <td>2</td>\n",
       "      <td>744202</td>\n",
       "      <td>405</td>\n",
       "      <td>626523.98</td>\n",
       "    </tr>\n",
       "    <tr>\n",
       "      <th>19</th>\n",
       "      <td>andaman-&amp;-nicobar-islands</td>\n",
       "      <td>2018</td>\n",
       "      <td>2</td>\n",
       "      <td>744302</td>\n",
       "      <td>291</td>\n",
       "      <td>1026590.07</td>\n",
       "    </tr>\n",
       "  </tbody>\n",
       "</table>\n",
       "</div>"
      ],
      "text/plain": [
       "                        State  Year  Quarter Pincode  Transaction_Count  \\\n",
       "0   andaman-&-nicobar-islands  2018        1  744101               1622   \n",
       "1   andaman-&-nicobar-islands  2018        1  744103               1223   \n",
       "2   andaman-&-nicobar-islands  2018        1  744102                969   \n",
       "3   andaman-&-nicobar-islands  2018        1  744105                685   \n",
       "4   andaman-&-nicobar-islands  2018        1  744104                340   \n",
       "5   andaman-&-nicobar-islands  2018        1  744107                302   \n",
       "6   andaman-&-nicobar-islands  2018        1  744301                283   \n",
       "7   andaman-&-nicobar-islands  2018        1  744112                269   \n",
       "8   andaman-&-nicobar-islands  2018        1  744202                193   \n",
       "9   andaman-&-nicobar-islands  2018        1  744302                168   \n",
       "10  andaman-&-nicobar-islands  2018        2  744101               2701   \n",
       "11  andaman-&-nicobar-islands  2018        2  744103               1965   \n",
       "12  andaman-&-nicobar-islands  2018        2  744102               1525   \n",
       "13  andaman-&-nicobar-islands  2018        2  744105                997   \n",
       "14  andaman-&-nicobar-islands  2018        2  744301                767   \n",
       "15  andaman-&-nicobar-islands  2018        2  744104                659   \n",
       "16  andaman-&-nicobar-islands  2018        2  744107                594   \n",
       "17  andaman-&-nicobar-islands  2018        2  744112                432   \n",
       "18  andaman-&-nicobar-islands  2018        2  744202                405   \n",
       "19  andaman-&-nicobar-islands  2018        2  744302                291   \n",
       "\n",
       "   Transaction_Amount  \n",
       "0          2769297.90  \n",
       "1          2238041.87  \n",
       "2          3519059.94  \n",
       "3          1298560.95  \n",
       "4          1039715.31  \n",
       "5           556059.53  \n",
       "6           445739.16  \n",
       "7           333709.57  \n",
       "8           238914.02  \n",
       "9           547469.65  \n",
       "10         6310089.92  \n",
       "11         4752146.70  \n",
       "12         5810267.57  \n",
       "13         2200332.97  \n",
       "14         1953749.38  \n",
       "15         1650346.19  \n",
       "16         1601569.98  \n",
       "17          578829.18  \n",
       "18          626523.98  \n",
       "19         1026590.07  "
      ]
     },
     "execution_count": 45,
     "metadata": {},
     "output_type": "execute_result"
    }
   ],
   "source": [
    "path = r\"C:\\Users\\g.rakesh\\Downloads\\pulse-master\\pulse-master\\data\\top\\transaction\\country\\india\\state\"\n",
    "top_states = os.listdir(path)\n",
    "D5 = {'State': [], 'Year': [], 'Quarter': [], 'Pincode': [], 'Transaction_Count': [], 'Transaction_Amount': []}\n",
    "for i in top_states:\n",
    "    p = path + \"/\" + i\n",
    "    top_yr = os.listdir(p)\n",
    "    for row in top_yr:\n",
    "        M = p + \"/\" + row\n",
    "        top_yr_list = os.listdir(M)\n",
    "        for k in top_yr_list:\n",
    "            N = M + '/' + k\n",
    "            with open(N, 'r') as file:\n",
    "                A = json.load(file)\n",
    "            for z in A['data']['pincodes']:\n",
    "                pincode = z['entityName']\n",
    "                count = z['metric']['count']\n",
    "                amount = scientific_to_amount(z['metric']['amount'])\n",
    "                D5['Transaction_Count'].append(count)\n",
    "                D5['Transaction_Amount'].append(amount)\n",
    "                D5['Pincode'].append(pincode)\n",
    "                D5['State'].append(i)\n",
    "                D5['Year'].append(row)\n",
    "                D5[\"Quarter\"].append(int(k.strip('.json')))\n",
    "# pprint.pprint(D5)\n",
    "top_trans = pd.DataFrame(D5)\n",
    "#top_trans.to_csv(\"top_trans.csv\")\n",
    "top_trans.head(20)\n"
   ]
  },
  {
   "cell_type": "code",
   "execution_count": 46,
   "metadata": {
    "colab": {
     "base_uri": "https://localhost:8080/",
     "height": 423
    },
    "id": "E5ACMjX3TIlQ",
    "outputId": "69291937-5e91-4dcc-887e-038885cabaee"
   },
   "outputs": [
    {
     "data": {
      "text/html": [
       "<div>\n",
       "<style scoped>\n",
       "    .dataframe tbody tr th:only-of-type {\n",
       "        vertical-align: middle;\n",
       "    }\n",
       "\n",
       "    .dataframe tbody tr th {\n",
       "        vertical-align: top;\n",
       "    }\n",
       "\n",
       "    .dataframe thead th {\n",
       "        text-align: right;\n",
       "    }\n",
       "</style>\n",
       "<table border=\"1\" class=\"dataframe\">\n",
       "  <thead>\n",
       "    <tr style=\"text-align: right;\">\n",
       "      <th></th>\n",
       "      <th>State</th>\n",
       "      <th>Year</th>\n",
       "      <th>Quarter</th>\n",
       "      <th>Districts</th>\n",
       "      <th>Registered_user</th>\n",
       "    </tr>\n",
       "  </thead>\n",
       "  <tbody>\n",
       "    <tr>\n",
       "      <th>0</th>\n",
       "      <td>andaman-&amp;-nicobar-islands</td>\n",
       "      <td>2018</td>\n",
       "      <td>1</td>\n",
       "      <td>south andaman</td>\n",
       "      <td>5846</td>\n",
       "    </tr>\n",
       "    <tr>\n",
       "      <th>1</th>\n",
       "      <td>andaman-&amp;-nicobar-islands</td>\n",
       "      <td>2018</td>\n",
       "      <td>1</td>\n",
       "      <td>north and middle andaman</td>\n",
       "      <td>632</td>\n",
       "    </tr>\n",
       "    <tr>\n",
       "      <th>2</th>\n",
       "      <td>andaman-&amp;-nicobar-islands</td>\n",
       "      <td>2018</td>\n",
       "      <td>1</td>\n",
       "      <td>nicobars</td>\n",
       "      <td>262</td>\n",
       "    </tr>\n",
       "    <tr>\n",
       "      <th>3</th>\n",
       "      <td>andaman-&amp;-nicobar-islands</td>\n",
       "      <td>2018</td>\n",
       "      <td>2</td>\n",
       "      <td>south andaman</td>\n",
       "      <td>8143</td>\n",
       "    </tr>\n",
       "    <tr>\n",
       "      <th>4</th>\n",
       "      <td>andaman-&amp;-nicobar-islands</td>\n",
       "      <td>2018</td>\n",
       "      <td>2</td>\n",
       "      <td>north and middle andaman</td>\n",
       "      <td>911</td>\n",
       "    </tr>\n",
       "    <tr>\n",
       "      <th>...</th>\n",
       "      <td>...</td>\n",
       "      <td>...</td>\n",
       "      <td>...</td>\n",
       "      <td>...</td>\n",
       "      <td>...</td>\n",
       "    </tr>\n",
       "    <tr>\n",
       "      <th>6803</th>\n",
       "      <td>west-bengal</td>\n",
       "      <td>2023</td>\n",
       "      <td>3</td>\n",
       "      <td>howrah</td>\n",
       "      <td>1608895</td>\n",
       "    </tr>\n",
       "    <tr>\n",
       "      <th>6804</th>\n",
       "      <td>west-bengal</td>\n",
       "      <td>2023</td>\n",
       "      <td>3</td>\n",
       "      <td>nadia</td>\n",
       "      <td>1544294</td>\n",
       "    </tr>\n",
       "    <tr>\n",
       "      <th>6805</th>\n",
       "      <td>west-bengal</td>\n",
       "      <td>2023</td>\n",
       "      <td>3</td>\n",
       "      <td>purba medinipur</td>\n",
       "      <td>1530289</td>\n",
       "    </tr>\n",
       "    <tr>\n",
       "      <th>6806</th>\n",
       "      <td>west-bengal</td>\n",
       "      <td>2023</td>\n",
       "      <td>3</td>\n",
       "      <td>paschim medinipur</td>\n",
       "      <td>1384076</td>\n",
       "    </tr>\n",
       "    <tr>\n",
       "      <th>6807</th>\n",
       "      <td>west-bengal</td>\n",
       "      <td>2023</td>\n",
       "      <td>3</td>\n",
       "      <td>purba bardhaman</td>\n",
       "      <td>1272153</td>\n",
       "    </tr>\n",
       "  </tbody>\n",
       "</table>\n",
       "<p>6808 rows × 5 columns</p>\n",
       "</div>"
      ],
      "text/plain": [
       "                          State  Year  Quarter                 Districts  \\\n",
       "0     andaman-&-nicobar-islands  2018        1             south andaman   \n",
       "1     andaman-&-nicobar-islands  2018        1  north and middle andaman   \n",
       "2     andaman-&-nicobar-islands  2018        1                  nicobars   \n",
       "3     andaman-&-nicobar-islands  2018        2             south andaman   \n",
       "4     andaman-&-nicobar-islands  2018        2  north and middle andaman   \n",
       "...                         ...   ...      ...                       ...   \n",
       "6803                west-bengal  2023        3                    howrah   \n",
       "6804                west-bengal  2023        3                     nadia   \n",
       "6805                west-bengal  2023        3           purba medinipur   \n",
       "6806                west-bengal  2023        3         paschim medinipur   \n",
       "6807                west-bengal  2023        3           purba bardhaman   \n",
       "\n",
       "      Registered_user  \n",
       "0                5846  \n",
       "1                 632  \n",
       "2                 262  \n",
       "3                8143  \n",
       "4                 911  \n",
       "...               ...  \n",
       "6803          1608895  \n",
       "6804          1544294  \n",
       "6805          1530289  \n",
       "6806          1384076  \n",
       "6807          1272153  \n",
       "\n",
       "[6808 rows x 5 columns]"
      ]
     },
     "execution_count": 46,
     "metadata": {},
     "output_type": "execute_result"
    }
   ],
   "source": [
    "path = r\"C:\\Users\\g.rakesh\\Downloads\\pulse-master\\pulse-master\\data\\top\\user\\country\\india\\state\"\n",
    "top_states = os.listdir(path)\n",
    "D6 = {'State': [], 'Year': [], 'Quarter': [], 'Districts': [], 'Registered_user': []}\n",
    "for i in top_states:\n",
    "    p = path + \"/\" + i\n",
    "    top_yr = os.listdir(p)\n",
    "    for row in top_yr:\n",
    "        M = p + \"/\" + row\n",
    "        top_yr_list = os.listdir(M)\n",
    "        for k in top_yr_list:\n",
    "            N = M + '/' + k\n",
    "            with open(N, 'r') as file:\n",
    "                A = json.load(file)\n",
    "            for z in A['data']['districts']:\n",
    "                dname = z['name']\n",
    "                reg_user = z['registeredUsers']\n",
    "                D6['State'].append(i)\n",
    "                D6['Year'].append(row)\n",
    "                D6[\"Quarter\"].append(int(k.strip('.json')))\n",
    "                D6['Districts'].append(dname)\n",
    "                D6['Registered_user'].append(reg_user)\n",
    "\n",
    "top_user_state= pd.DataFrame(D6)\n",
    "#top_user_state.to_csv(\"top_user_state.csv\")\n",
    "top_user_state"
   ]
  },
  {
   "cell_type": "markdown",
   "metadata": {
    "id": "R5vnlzsZY2AI"
   },
   "source": [
    "# Data Preprocessing\n",
    "# Data Cleaning\n",
    "\n",
    "   Data cleaning is the process of identifying and correcting or removing errors, inconsistencies, and inaccuracies in a dataset to improve its quality and ensure that it is ready for analysis. It involves tasks such as handling missing or duplicate data, correcting data types, and removing outliers or irrelevant information.\n",
    "   "
   ]
  },
  {
   "cell_type": "code",
   "execution_count": 47,
   "metadata": {
    "colab": {
     "base_uri": "https://localhost:8080/"
    },
    "id": "SQZoYMX1TIWj",
    "outputId": "199b0c24-79ff-4ec1-d812-7058e25c81a1"
   },
   "outputs": [
    {
     "data": {
      "text/plain": [
       "State                 0\n",
       "Year                  0\n",
       "Quarter               0\n",
       "Transaction_type      0\n",
       "Transaction_count     0\n",
       "Transaction_amount    0\n",
       "dtype: int64"
      ]
     },
     "execution_count": 47,
     "metadata": {},
     "output_type": "execute_result"
    }
   ],
   "source": [
    "# looking for the amount of null data in the pandas dataframe\n",
    "Agg_Trans.isnull().sum()"
   ]
  },
  {
   "cell_type": "code",
   "execution_count": 48,
   "metadata": {
    "colab": {
     "base_uri": "https://localhost:8080/"
    },
    "id": "JFDqSldZXOD5",
    "outputId": "213d5aaa-a9af-4aa2-9c75-88c357ac4f7b"
   },
   "outputs": [
    {
     "data": {
      "text/plain": [
       "State         0\n",
       "Year          0\n",
       "Quarter       0\n",
       "Brand         0\n",
       "count         0\n",
       "Percentage    0\n",
       "dtype: int64"
      ]
     },
     "execution_count": 48,
     "metadata": {},
     "output_type": "execute_result"
    }
   ],
   "source": [
    "# looking for the amount of null data in the pandas dataframe\n",
    "Agg_user.isnull().sum()"
   ]
  },
  {
   "cell_type": "code",
   "execution_count": 49,
   "metadata": {
    "colab": {
     "base_uri": "https://localhost:8080/"
    },
    "id": "S8IxE2KPX9wB",
    "outputId": "58dd5998-40e8-42ce-eacd-0dfac722b3ab"
   },
   "outputs": [
    {
     "data": {
      "text/plain": [
       "State       0\n",
       "Year        0\n",
       "Quarter     0\n",
       "District    0\n",
       "Count       0\n",
       "Amount      0\n",
       "dtype: int64"
      ]
     },
     "execution_count": 49,
     "metadata": {},
     "output_type": "execute_result"
    }
   ],
   "source": [
    "# looking for the amount of null data in the pandas dataframe\n",
    "map_trans.isnull().sum()"
   ]
  },
  {
   "cell_type": "code",
   "execution_count": 50,
   "metadata": {
    "colab": {
     "base_uri": "https://localhost:8080/"
    },
    "id": "K0g8L2fLYJ9h",
    "outputId": "622ae77b-ed24-4729-9010-ba25a61a93ab"
   },
   "outputs": [
    {
     "data": {
      "text/plain": [
       "State        0\n",
       "Year         0\n",
       "Quarter      0\n",
       "Users        0\n",
       "Districts    0\n",
       "App_open     0\n",
       "dtype: int64"
      ]
     },
     "execution_count": 50,
     "metadata": {},
     "output_type": "execute_result"
    }
   ],
   "source": [
    "# looking for the amount of null data in the pandas dataframe\n",
    "map_user.isnull().sum()"
   ]
  },
  {
   "cell_type": "code",
   "execution_count": 51,
   "metadata": {
    "colab": {
     "base_uri": "https://localhost:8080/"
    },
    "id": "8nRO6PtdYSWq",
    "outputId": "27977fe1-72d5-4969-a89a-3ac3ddb2d668"
   },
   "outputs": [
    {
     "data": {
      "text/plain": [
       "State                 0\n",
       "Year                  0\n",
       "Quarter               0\n",
       "Pincode               2\n",
       "Transaction_Count     0\n",
       "Transaction_Amount    0\n",
       "dtype: int64"
      ]
     },
     "execution_count": 51,
     "metadata": {},
     "output_type": "execute_result"
    }
   ],
   "source": [
    "# looking for the amount of null data in the pandas dataframe\n",
    "top_trans.isnull().sum()"
   ]
  },
  {
   "cell_type": "code",
   "execution_count": 52,
   "metadata": {},
   "outputs": [],
   "source": [
    "#remove the null values\n",
    "top_trans = top_trans.dropna()"
   ]
  },
  {
   "cell_type": "code",
   "execution_count": 53,
   "metadata": {},
   "outputs": [
    {
     "data": {
      "text/plain": [
       "State                 0\n",
       "Year                  0\n",
       "Quarter               0\n",
       "Pincode               0\n",
       "Transaction_Count     0\n",
       "Transaction_Amount    0\n",
       "dtype: int64"
      ]
     },
     "execution_count": 53,
     "metadata": {},
     "output_type": "execute_result"
    }
   ],
   "source": [
    "# after checking the null values\n",
    "top_trans.isnull().sum()"
   ]
  },
  {
   "cell_type": "code",
   "execution_count": 54,
   "metadata": {
    "colab": {
     "base_uri": "https://localhost:8080/"
    },
    "id": "GgGSUkhSYaoe",
    "outputId": "feebf758-a04e-4f7c-a8e5-3f43455d6ff5"
   },
   "outputs": [
    {
     "data": {
      "text/plain": [
       "State              0\n",
       "Year               0\n",
       "Quarter            0\n",
       "Districts          0\n",
       "Registered_user    0\n",
       "dtype: int64"
      ]
     },
     "execution_count": 54,
     "metadata": {},
     "output_type": "execute_result"
    }
   ],
   "source": [
    "# looking for the amount of null data in the pandas dataframe\n",
    "top_user_state.isnull().sum()"
   ]
  },
  {
   "cell_type": "markdown",
   "metadata": {
    "id": "2jxBKZoyZgDJ"
   },
   "source": [
    "### **No Null Values For All DataFrames**"
   ]
  },
  {
   "cell_type": "markdown",
   "metadata": {},
   "source": [
    "connecting the database"
   ]
  },
  {
   "cell_type": "code",
   "execution_count": 55,
   "metadata": {},
   "outputs": [
    {
     "name": "stdout",
     "output_type": "stream",
     "text": [
      "Requirement already satisfied: pymysql in c:\\users\\g.rakesh\\anaconda3\\lib\\site-packages (1.1.0)Note: you may need to restart the kernel to use updated packages.\n",
      "\n"
     ]
    }
   ],
   "source": [
    "pip install pymysql"
   ]
  },
  {
   "cell_type": "code",
   "execution_count": 56,
   "metadata": {},
   "outputs": [],
   "source": [
    "import pymysql"
   ]
  },
  {
   "cell_type": "code",
   "execution_count": 57,
   "metadata": {},
   "outputs": [
    {
     "data": {
      "text/plain": [
       "0"
      ]
     },
     "execution_count": 57,
     "metadata": {},
     "output_type": "execute_result"
    }
   ],
   "source": [
    "# Establish the connection\n",
    "con = pymysql.connect(host = 'localhost',\n",
    "                        user = 'root',\n",
    "                        password = \"Rakesh123\",\n",
    "                        autocommit=True\n",
    "                      )\n",
    "\n",
    "\n",
    "mycursor = con.cursor()\n",
    "mycursor.execute(\"CREATE DATABASE IF NOT EXISTS phonepe_db\")\n",
    "mycursor.execute(\"USE phonepe_db\")\n"
   ]
  },
  {
   "cell_type": "code",
   "execution_count": 58,
   "metadata": {},
   "outputs": [
    {
     "data": {
      "text/plain": [
       "0"
      ]
     },
     "execution_count": 58,
     "metadata": {},
     "output_type": "execute_result"
    }
   ],
   "source": [
    "#create the database and insert the values agg_transaction\n",
    "query = \"create table agg_transaction(state varchar(100), year int, quarter int, trans_type varchar(80), trans_count int, trans_amt double)\"\n",
    "mycursor.execute(query)"
   ]
  },
  {
   "cell_type": "code",
   "execution_count": 59,
   "metadata": {
    "id": "W_FBGcSEZ77S"
   },
   "outputs": [],
   "source": [
    "for i, row in Agg_Trans.iterrows():\n",
    "    query = \"insert into agg_transaction values (%s,%s,%s,%s,%s,%s)\"\n",
    "    mycursor.execute(query, tuple(row))\n",
    "    "
   ]
  },
  {
   "cell_type": "code",
   "execution_count": 60,
   "metadata": {},
   "outputs": [
    {
     "data": {
      "text/plain": [
       "0"
      ]
     },
     "execution_count": 60,
     "metadata": {},
     "output_type": "execute_result"
    }
   ],
   "source": [
    "#create the database and insert the values agg_user\n",
    "query = \"create table agg_user(state varchar(100),year int, quarter int, brand varchar(30), count int, percentage double)\"\n",
    "mycursor.execute(query)\n"
   ]
  },
  {
   "cell_type": "code",
   "execution_count": 61,
   "metadata": {
    "id": "FPqMUKwZZ73w"
   },
   "outputs": [],
   "source": [
    "for i, row in Agg_user.iterrows():\n",
    "    query = \"insert into agg_user values (%s,%s,%s,%s,%s,%s)\"\n",
    "    mycursor.execute(query, tuple(row))"
   ]
  },
  {
   "cell_type": "code",
   "execution_count": 62,
   "metadata": {
    "id": "oFM80JI5Z7xZ"
   },
   "outputs": [
    {
     "data": {
      "text/plain": [
       "0"
      ]
     },
     "execution_count": 62,
     "metadata": {},
     "output_type": "execute_result"
    }
   ],
   "source": [
    "#create the database and insert the values map_transaction\n",
    "query = \"create table map_trans(state varchar(100),year int, quarter int,district varchar(100), count int, amount double)\"\n",
    "mycursor.execute(query)"
   ]
  },
  {
   "cell_type": "code",
   "execution_count": 63,
   "metadata": {},
   "outputs": [],
   "source": [
    "for i, row in map_trans.iterrows():\n",
    "    query = \"insert into map_trans values(%s,%s,%s,%s,%s,%s)\"\n",
    "    mycursor.execute(query, tuple(row))"
   ]
  },
  {
   "cell_type": "code",
   "execution_count": 64,
   "metadata": {},
   "outputs": [
    {
     "data": {
      "text/plain": [
       "0"
      ]
     },
     "execution_count": 64,
     "metadata": {},
     "output_type": "execute_result"
    }
   ],
   "source": [
    "#create the database and insert the values map_user\n",
    "query = \"create table map_user(state varchar(100),year int, quarter int, Reg_users int, district varchar(100), app_open int)\"\n",
    "mycursor.execute(query)\n"
   ]
  },
  {
   "cell_type": "code",
   "execution_count": 65,
   "metadata": {},
   "outputs": [],
   "source": [
    "for i, row in map_user.iterrows():\n",
    "    query = \"insert into map_user values(%s,%s,%s,%s,%s,%s)\"\n",
    "    mycursor.execute(query, tuple(row))"
   ]
  },
  {
   "cell_type": "code",
   "execution_count": 66,
   "metadata": {},
   "outputs": [
    {
     "data": {
      "text/plain": [
       "0"
      ]
     },
     "execution_count": 66,
     "metadata": {},
     "output_type": "execute_result"
    }
   ],
   "source": [
    "#create the database and insert the values top_transaction\n",
    "query = \"create table top_trans(state varchar(100),year int, quarter int, pincode int, transaction_count int, transaction_amount double)\"\n",
    "mycursor.execute(query)"
   ]
  },
  {
   "cell_type": "code",
   "execution_count": 67,
   "metadata": {},
   "outputs": [],
   "source": [
    "for i, row in top_trans.iterrows():\n",
    "    query = \"insert into top_trans values(%s,%s,%s,%s,%s,%s)\"\n",
    "    mycursor.execute(query, tuple(row))"
   ]
  },
  {
   "cell_type": "code",
   "execution_count": 68,
   "metadata": {},
   "outputs": [
    {
     "data": {
      "text/plain": [
       "0"
      ]
     },
     "execution_count": 68,
     "metadata": {},
     "output_type": "execute_result"
    }
   ],
   "source": [
    "#create the database and insert the values top_user\n",
    "query = \"create table top_user_state (state varchar(100),year int, quarter int, district varchar(80),Reg_users int)\"\n",
    "mycursor.execute(query)"
   ]
  },
  {
   "cell_type": "code",
   "execution_count": 69,
   "metadata": {},
   "outputs": [],
   "source": [
    "for i, row in top_user_state.iterrows():\n",
    "    query = \"insert into top_user_state values(%s,%s,%s,%s,%s)\"\n",
    "    mycursor.execute(query, tuple(row))"
   ]
  },
  {
   "cell_type": "code",
   "execution_count": null,
   "metadata": {},
   "outputs": [],
   "source": []
  }
 ],
 "metadata": {
  "colab": {
   "provenance": []
  },
  "kernelspec": {
   "display_name": "Python 3 (ipykernel)",
   "language": "python",
   "name": "python3"
  },
  "language_info": {
   "codemirror_mode": {
    "name": "ipython",
    "version": 3
   },
   "file_extension": ".py",
   "mimetype": "text/x-python",
   "name": "python",
   "nbconvert_exporter": "python",
   "pygments_lexer": "ipython3",
   "version": "3.10.9"
  }
 },
 "nbformat": 4,
 "nbformat_minor": 1
}
